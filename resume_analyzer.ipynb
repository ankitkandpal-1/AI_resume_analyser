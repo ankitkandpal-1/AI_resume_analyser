{
 "cells": [
  {
   "cell_type": "markdown",
   "id": "00b13c9c",
   "metadata": {},
   "source": [
    "# Get the text from PDF"
   ]
  },
  {
   "cell_type": "code",
   "execution_count": 1,
   "id": "090f31f1",
   "metadata": {},
   "outputs": [
    {
     "name": "stdout",
     "output_type": "stream",
     "text": [
      "Defaulting to user installation because normal site-packages is not writeable\n",
      "Collecting pdfplumber\n",
      "  Downloading pdfplumber-0.11.7-py3-none-any.whl.metadata (42 kB)\n",
      "Collecting pytesseract\n",
      "  Downloading pytesseract-0.3.13-py3-none-any.whl.metadata (11 kB)\n",
      "Collecting pdf2image\n",
      "  Downloading pdf2image-1.17.0-py3-none-any.whl.metadata (6.2 kB)\n",
      "Collecting pdfminer.six==20250506 (from pdfplumber)\n",
      "  Downloading pdfminer_six-20250506-py3-none-any.whl.metadata (4.2 kB)\n",
      "Requirement already satisfied: Pillow>=9.1 in c:\\users\\ankit\\appdata\\roaming\\python\\python312\\site-packages (from pdfplumber) (11.3.0)\n",
      "Collecting pypdfium2>=4.18.0 (from pdfplumber)\n",
      "  Downloading pypdfium2-4.30.0-py3-none-win_amd64.whl.metadata (48 kB)\n",
      "Requirement already satisfied: charset-normalizer>=2.0.0 in c:\\users\\ankit\\appdata\\roaming\\python\\python312\\site-packages (from pdfminer.six==20250506->pdfplumber) (3.4.2)\n",
      "Collecting cryptography>=36.0.0 (from pdfminer.six==20250506->pdfplumber)\n",
      "  Downloading cryptography-45.0.5-cp311-abi3-win_amd64.whl.metadata (5.7 kB)\n",
      "Requirement already satisfied: packaging>=21.3 in c:\\users\\ankit\\appdata\\roaming\\python\\python312\\site-packages (from pytesseract) (24.2)\n",
      "Requirement already satisfied: cffi>=1.14 in c:\\users\\ankit\\appdata\\roaming\\python\\python312\\site-packages (from cryptography>=36.0.0->pdfminer.six==20250506->pdfplumber) (1.17.1)\n",
      "Requirement already satisfied: pycparser in c:\\users\\ankit\\appdata\\roaming\\python\\python312\\site-packages (from cffi>=1.14->cryptography>=36.0.0->pdfminer.six==20250506->pdfplumber) (2.22)\n",
      "Downloading pdfplumber-0.11.7-py3-none-any.whl (60 kB)\n",
      "Downloading pdfminer_six-20250506-py3-none-any.whl (5.6 MB)\n",
      "   ---------------------------------------- 0.0/5.6 MB ? eta -:--:--\n",
      "   ------------- -------------------------- 1.8/5.6 MB 11.2 MB/s eta 0:00:01\n",
      "   -------------------- ------------------- 2.9/5.6 MB 7.6 MB/s eta 0:00:01\n",
      "   --------------------------- ------------ 3.9/5.6 MB 6.5 MB/s eta 0:00:01\n",
      "   ----------------------------------- ---- 5.0/5.6 MB 6.3 MB/s eta 0:00:01\n",
      "   ------------------------------------- -- 5.2/5.6 MB 5.8 MB/s eta 0:00:01\n",
      "   ---------------------------------------  5.5/5.6 MB 4.5 MB/s eta 0:00:01\n",
      "   ---------------------------------------  5.5/5.6 MB 4.5 MB/s eta 0:00:01\n",
      "   ---------------------------------------  5.5/5.6 MB 4.5 MB/s eta 0:00:01\n",
      "   ---------------------------------------- 5.6/5.6 MB 2.9 MB/s eta 0:00:00\n",
      "Downloading pytesseract-0.3.13-py3-none-any.whl (14 kB)\n",
      "Downloading pdf2image-1.17.0-py3-none-any.whl (11 kB)\n",
      "Downloading cryptography-45.0.5-cp311-abi3-win_amd64.whl (3.4 MB)\n",
      "   ---------------------------------------- 0.0/3.4 MB ? eta -:--:--\n",
      "   ------------------------ --------------- 2.1/3.4 MB 9.8 MB/s eta 0:00:01\n",
      "   ---------------------------------------- 3.4/3.4 MB 8.4 MB/s eta 0:00:00\n",
      "Downloading pypdfium2-4.30.0-py3-none-win_amd64.whl (2.9 MB)\n",
      "   ---------------------------------------- 0.0/2.9 MB ? eta -:--:--\n",
      "   ------------------------- -------------- 1.8/2.9 MB 10.0 MB/s eta 0:00:01\n",
      "   ------------------------------------ --- 2.6/2.9 MB 7.9 MB/s eta 0:00:01\n",
      "   ------------------------------------ --- 2.6/2.9 MB 7.9 MB/s eta 0:00:01\n",
      "   ------------------------------------ --- 2.6/2.9 MB 7.9 MB/s eta 0:00:01\n",
      "   ---------------------------------------- 2.9/2.9 MB 3.1 MB/s eta 0:00:00\n",
      "Installing collected packages: pytesseract, pypdfium2, pdf2image, cryptography, pdfminer.six, pdfplumber\n",
      "\n",
      "   ---------------------------------------- 0/6 [pytesseract]\n",
      "   ------ --------------------------------- 1/6 [pypdfium2]\n",
      "   ------ --------------------------------- 1/6 [pypdfium2]\n",
      "   ------ --------------------------------- 1/6 [pypdfium2]\n",
      "   ------ --------------------------------- 1/6 [pypdfium2]\n",
      "   ------ --------------------------------- 1/6 [pypdfium2]\n",
      "   ------ --------------------------------- 1/6 [pypdfium2]\n",
      "   ------ --------------------------------- 1/6 [pypdfium2]\n",
      "   ------------- -------------------------- 2/6 [pdf2image]\n",
      "   -------------------- ------------------- 3/6 [cryptography]\n",
      "   -------------------- ------------------- 3/6 [cryptography]\n",
      "   -------------------- ------------------- 3/6 [cryptography]\n",
      "   -------------------- ------------------- 3/6 [cryptography]\n",
      "   -------------------- ------------------- 3/6 [cryptography]\n",
      "   -------------------- ------------------- 3/6 [cryptography]\n",
      "   -------------------- ------------------- 3/6 [cryptography]\n",
      "   -------------------- ------------------- 3/6 [cryptography]\n",
      "   -------------------- ------------------- 3/6 [cryptography]\n",
      "   -------------------- ------------------- 3/6 [cryptography]\n",
      "   -------------------- ------------------- 3/6 [cryptography]\n",
      "   -------------------------- ------------- 4/6 [pdfminer.six]\n",
      "   -------------------------- ------------- 4/6 [pdfminer.six]\n",
      "   -------------------------- ------------- 4/6 [pdfminer.six]\n",
      "   -------------------------- ------------- 4/6 [pdfminer.six]\n",
      "   -------------------------- ------------- 4/6 [pdfminer.six]\n",
      "   -------------------------- ------------- 4/6 [pdfminer.six]\n",
      "   -------------------------- ------------- 4/6 [pdfminer.six]\n",
      "   -------------------------- ------------- 4/6 [pdfminer.six]\n",
      "   -------------------------- ------------- 4/6 [pdfminer.six]\n",
      "   -------------------------- ------------- 4/6 [pdfminer.six]\n",
      "   --------------------------------- ------ 5/6 [pdfplumber]\n",
      "   --------------------------------- ------ 5/6 [pdfplumber]\n",
      "   --------------------------------- ------ 5/6 [pdfplumber]\n",
      "   --------------------------------- ------ 5/6 [pdfplumber]\n",
      "   ---------------------------------------- 6/6 [pdfplumber]\n",
      "\n",
      "Successfully installed cryptography-45.0.5 pdf2image-1.17.0 pdfminer.six-20250506 pdfplumber-0.11.7 pypdfium2-4.30.0 pytesseract-0.3.13\n",
      "Note: you may need to restart the kernel to use updated packages.\n"
     ]
    },
    {
     "name": "stderr",
     "output_type": "stream",
     "text": [
      "\n",
      "[notice] A new release of pip is available: 25.1.1 -> 25.2\n",
      "[notice] To update, run: python.exe -m pip install --upgrade pip\n"
     ]
    }
   ],
   "source": [
    "%pip install pdfplumber pytesseract pdf2image"
   ]
  },
  {
   "cell_type": "code",
   "execution_count": 2,
   "id": "0de5714b",
   "metadata": {},
   "outputs": [],
   "source": [
    "import pdfplumber\n",
    "import pytesseract\n",
    "from pdf2image import convert_from_path"
   ]
  },
  {
   "cell_type": "code",
   "execution_count": 3,
   "id": "b43234f6",
   "metadata": {},
   "outputs": [],
   "source": [
    "def extract_text_from_pdf(pdf_path):\n",
    "    text = \"\"\n",
    "    try:\n",
    "        # Try direct text extraction\n",
    "        with pdfplumber.open(pdf_path) as pdf:\n",
    "            for page in pdf.pages:\n",
    "                page_text = page.extract_text()\n",
    "                if page_text:\n",
    "                    text += page_text\n",
    "\n",
    "        if text.strip():\n",
    "            return text.strip()\n",
    "    except Exception as e:\n",
    "        print(f\"Direct text extraction failed: {e}\")\n",
    "\n",
    "    # Fallback to OCR for image-based PDFs\n",
    "    print(\"Falling back to OCR for image-based PDF.\")\n",
    "    try:\n",
    "        images = convert_from_path(pdf_path)\n",
    "        for image in images:\n",
    "            page_text = pytesseract.image_to_string(image)\n",
    "            text += page_text + \"\\n\"\n",
    "    except Exception as e:\n",
    "        print(f\"OCR failed: {e}\")\n",
    "\n",
    "    return text.strip()"
   ]
  },
  {
   "cell_type": "code",
   "execution_count": 15,
   "id": "dc7e888e",
   "metadata": {},
   "outputs": [
    {
     "name": "stdout",
     "output_type": "stream",
     "text": [
      "\n",
      "Extracted Text from PDF:\n",
      "ANKIT KANDPAL\n",
      "(+91) 8700929077 ⋄ Noida, Uttar pardesh- 201 301\n",
      "Ankitkandpal210@gmail.com ⋄ https://www.linkedin.com/in/ankit-kandpal ⋄ https://github.com/ankitkandpal-1\n",
      "OBJECTIVE\n",
      "A passionate B.Tech final year student with a keen interest in Artificial Intelligence and Machine Learning. Proficient\n",
      "in Python, with strong expertise in application development. Dedicated to exploring innovative solutions through\n",
      "AI-driven technologies, aiming to contribute effectively to the tech industry with creative, efficient, and impactful\n",
      "software solutions.\n",
      "EDUCATION\n",
      "Bachelor of Computer Science, GL Bajaj Institute of Technology and Managementy Expected 2026\n",
      "Senior Secondary School, Noida Public Senior Secondary School 2021 - 2022\n",
      "Secondary School, Noida Public Senior Secondary School 2019 - 2020\n",
      "SKILLS\n",
      "Technical Skills App Developement, Machine Learning, Artificial Intelligence, Data Structure\n",
      "Skills Python, C++, Javascript , php ,HTML, CSS\n",
      "Framework React.js , Angular , Vue.js , Next.js\n",
      "PROJECTS\n",
      "AgentMeet – AI-Powered Meeting Assistant SaaS Platform.\n",
      "Developed a full-stack SaaS platform that transforms video meetings into intelligent, searchable interactions using AI\n",
      "agents. The application enables real-time video calling, automatic transcription of meeting audio, and post-meeting\n",
      "contextualAIchat,allowinguserstoqueryconversationhistory. Integratedmodernauthentication, role-basedaccess,\n",
      "usage tracking, and subscription plans with free trial flows.\n",
      "Finger Counter using Computer Vision.\n",
      "Developed a real-time finger counting system using computer vision that detects and counts the number of fingers\n",
      "shown to the webcam using hand contour detection and convex hull algorithms. Tech Stack: Python, OpenCV,\n",
      "NumPy.\n",
      "Dijkstra’s Algorithm Visualizer with Map Interface.\n",
      "Built an interactive visualization tool to demonstrate Dijkstra’s shortest path algorithm on a 2D map or grid. The\n",
      "project allows users to set a source and destination on a visual map and watch the shortest path being calculated in\n",
      "real-time.\n",
      "Tech Stack: Python, Pygame / Tkinter / PyQt / JavaScript + HTML/CSS (if web-based), Dijkstra’s Algorithm,\n",
      "Matplotlib, OpenStreetMap or custom grid\n",
      "EXTRA-CURRICULAR ACTIVITIES\n",
      "• Participated in coding competitions on LeetCode, Codeforces, HackerRank, CodeChef, GeeksforGeeks, etc.Built\n",
      "a solution in limited time with a team– shows problem-solving + collaboration.\n",
      "• Solved real-world problems under tight deadlines using collaborative coding and rapid prototyping.\n",
      "LEADERSHIP\n",
      "• Lead a 4-member team to develop a full-stack e-commerce website, handled task division, code reviews, and\n",
      "backend API design using Next.js and MongoDB.Mentored juniors in understanding data structures and solving\n",
      "LeetCode problems during weekly mentoring sessions.!\n"
     ]
    }
   ],
   "source": [
    "pdf_path = \"Ankit_resume.pdf\"\n",
    "resume_text = extract_text_from_pdf(pdf_path)\n",
    "\n",
    "print(\"\\nExtracted Text from PDF:\")\n",
    "print(resume_text)"
   ]
  },
  {
   "cell_type": "markdown",
   "id": "21450b69",
   "metadata": {},
   "source": [
    "## Set google GenerativeAI api key"
   ]
  },
  {
   "cell_type": "code",
   "execution_count": 7,
   "id": "06f7ace5",
   "metadata": {},
   "outputs": [
    {
     "name": "stdout",
     "output_type": "stream",
     "text": [
      "Defaulting to user installation because normal site-packages is not writeable\n",
      "Requirement already satisfied: google.generativeai in c:\\users\\ankit\\appdata\\roaming\\python\\python312\\site-packages (0.8.5)\n",
      "Requirement already satisfied: python-dotenv in c:\\users\\ankit\\appdata\\roaming\\python\\python312\\site-packages (1.1.1)\n",
      "Requirement already satisfied: google-ai-generativelanguage==0.6.15 in c:\\users\\ankit\\appdata\\roaming\\python\\python312\\site-packages (from google.generativeai) (0.6.15)\n",
      "Requirement already satisfied: google-api-core in c:\\users\\ankit\\appdata\\roaming\\python\\python312\\site-packages (from google.generativeai) (2.25.1)\n",
      "Requirement already satisfied: google-api-python-client in c:\\users\\ankit\\appdata\\roaming\\python\\python312\\site-packages (from google.generativeai) (2.177.0)\n",
      "Requirement already satisfied: google-auth>=2.15.0 in c:\\users\\ankit\\appdata\\roaming\\python\\python312\\site-packages (from google.generativeai) (2.40.3)\n",
      "Requirement already satisfied: protobuf in c:\\users\\ankit\\appdata\\roaming\\python\\python312\\site-packages (from google.generativeai) (5.29.5)\n",
      "Requirement already satisfied: pydantic in c:\\users\\ankit\\appdata\\roaming\\python\\python312\\site-packages (from google.generativeai) (2.11.7)\n",
      "Requirement already satisfied: tqdm in c:\\users\\ankit\\appdata\\roaming\\python\\python312\\site-packages (from google.generativeai) (4.67.1)\n",
      "Requirement already satisfied: typing-extensions in c:\\users\\ankit\\appdata\\roaming\\python\\python312\\site-packages (from google.generativeai) (4.14.1)\n",
      "Requirement already satisfied: proto-plus<2.0.0dev,>=1.22.3 in c:\\users\\ankit\\appdata\\roaming\\python\\python312\\site-packages (from google-ai-generativelanguage==0.6.15->google.generativeai) (1.26.1)\n",
      "Requirement already satisfied: googleapis-common-protos<2.0.0,>=1.56.2 in c:\\users\\ankit\\appdata\\roaming\\python\\python312\\site-packages (from google-api-core->google.generativeai) (1.70.0)\n",
      "Requirement already satisfied: requests<3.0.0,>=2.18.0 in c:\\users\\ankit\\appdata\\roaming\\python\\python312\\site-packages (from google-api-core->google.generativeai) (2.32.4)\n",
      "Requirement already satisfied: grpcio<2.0.0,>=1.33.2 in c:\\users\\ankit\\appdata\\roaming\\python\\python312\\site-packages (from google-api-core[grpc]!=2.0.*,!=2.1.*,!=2.10.*,!=2.2.*,!=2.3.*,!=2.4.*,!=2.5.*,!=2.6.*,!=2.7.*,!=2.8.*,!=2.9.*,<3.0.0dev,>=1.34.1->google-ai-generativelanguage==0.6.15->google.generativeai) (1.73.1)\n",
      "Requirement already satisfied: grpcio-status<2.0.0,>=1.33.2 in c:\\users\\ankit\\appdata\\roaming\\python\\python312\\site-packages (from google-api-core[grpc]!=2.0.*,!=2.1.*,!=2.10.*,!=2.2.*,!=2.3.*,!=2.4.*,!=2.5.*,!=2.6.*,!=2.7.*,!=2.8.*,!=2.9.*,<3.0.0dev,>=1.34.1->google-ai-generativelanguage==0.6.15->google.generativeai) (1.71.2)\n",
      "Requirement already satisfied: cachetools<6.0,>=2.0.0 in c:\\users\\ankit\\appdata\\roaming\\python\\python312\\site-packages (from google-auth>=2.15.0->google.generativeai) (5.5.2)\n",
      "Requirement already satisfied: pyasn1-modules>=0.2.1 in c:\\users\\ankit\\appdata\\roaming\\python\\python312\\site-packages (from google-auth>=2.15.0->google.generativeai) (0.4.2)\n",
      "Requirement already satisfied: rsa<5,>=3.1.4 in c:\\users\\ankit\\appdata\\roaming\\python\\python312\\site-packages (from google-auth>=2.15.0->google.generativeai) (4.9.1)\n",
      "Requirement already satisfied: charset_normalizer<4,>=2 in c:\\users\\ankit\\appdata\\roaming\\python\\python312\\site-packages (from requests<3.0.0,>=2.18.0->google-api-core->google.generativeai) (3.4.2)\n",
      "Requirement already satisfied: idna<4,>=2.5 in c:\\users\\ankit\\appdata\\roaming\\python\\python312\\site-packages (from requests<3.0.0,>=2.18.0->google-api-core->google.generativeai) (3.10)\n",
      "Requirement already satisfied: urllib3<3,>=1.21.1 in c:\\users\\ankit\\appdata\\roaming\\python\\python312\\site-packages (from requests<3.0.0,>=2.18.0->google-api-core->google.generativeai) (2.5.0)\n",
      "Requirement already satisfied: certifi>=2017.4.17 in c:\\users\\ankit\\appdata\\roaming\\python\\python312\\site-packages (from requests<3.0.0,>=2.18.0->google-api-core->google.generativeai) (2025.7.9)\n",
      "Requirement already satisfied: pyasn1>=0.1.3 in c:\\users\\ankit\\appdata\\roaming\\python\\python312\\site-packages (from rsa<5,>=3.1.4->google-auth>=2.15.0->google.generativeai) (0.6.1)\n",
      "Requirement already satisfied: httplib2<1.0.0,>=0.19.0 in c:\\users\\ankit\\appdata\\roaming\\python\\python312\\site-packages (from google-api-python-client->google.generativeai) (0.22.0)\n",
      "Requirement already satisfied: google-auth-httplib2<1.0.0,>=0.2.0 in c:\\users\\ankit\\appdata\\roaming\\python\\python312\\site-packages (from google-api-python-client->google.generativeai) (0.2.0)\n",
      "Requirement already satisfied: uritemplate<5,>=3.0.1 in c:\\users\\ankit\\appdata\\roaming\\python\\python312\\site-packages (from google-api-python-client->google.generativeai) (4.2.0)\n",
      "Requirement already satisfied: pyparsing!=3.0.0,!=3.0.1,!=3.0.2,!=3.0.3,<4,>=2.4.2 in c:\\users\\ankit\\appdata\\roaming\\python\\python312\\site-packages (from httplib2<1.0.0,>=0.19.0->google-api-python-client->google.generativeai) (3.2.3)\n",
      "Requirement already satisfied: annotated-types>=0.6.0 in c:\\users\\ankit\\appdata\\roaming\\python\\python312\\site-packages (from pydantic->google.generativeai) (0.7.0)\n",
      "Requirement already satisfied: pydantic-core==2.33.2 in c:\\users\\ankit\\appdata\\roaming\\python\\python312\\site-packages (from pydantic->google.generativeai) (2.33.2)\n",
      "Requirement already satisfied: typing-inspection>=0.4.0 in c:\\users\\ankit\\appdata\\roaming\\python\\python312\\site-packages (from pydantic->google.generativeai) (0.4.1)\n",
      "Requirement already satisfied: colorama in c:\\users\\ankit\\appdata\\roaming\\python\\python312\\site-packages (from tqdm->google.generativeai) (0.4.6)\n",
      "Note: you may need to restart the kernel to use updated packages.\n"
     ]
    },
    {
     "name": "stderr",
     "output_type": "stream",
     "text": [
      "\n",
      "[notice] A new release of pip is available: 25.1.1 -> 25.2\n",
      "[notice] To update, run: python.exe -m pip install --upgrade pip\n"
     ]
    }
   ],
   "source": [
    "%pip install google.generativeai python-dotenv"
   ]
  },
  {
   "cell_type": "code",
   "execution_count": 9,
   "id": "753a3091",
   "metadata": {},
   "outputs": [],
   "source": [
    "import google.generativeai as genai\n",
    "import os\n",
    "from dotenv import load_dotenv\n",
    "\n",
    "load_dotenv()\n",
    "genai.configure(api_key=os.getenv(\"GOOGLE_API_KEY\"))\n",
    "model = genai.GenerativeModel(\"gemini-1.5-flash\")"
   ]
  },
  {
   "cell_type": "code",
   "execution_count": 11,
   "id": "60fb29fa",
   "metadata": {},
   "outputs": [],
   "source": [
    "response = model.generate_content(\"What is the capital of India?\")"
   ]
  },
  {
   "cell_type": "code",
   "execution_count": 12,
   "id": "b27b12b5",
   "metadata": {},
   "outputs": [
    {
     "name": "stdout",
     "output_type": "stream",
     "text": [
      "response:\n",
      "GenerateContentResponse(\n",
      "    done=True,\n",
      "    iterator=None,\n",
      "    result=protos.GenerateContentResponse({\n",
      "      \"candidates\": [\n",
      "        {\n",
      "          \"content\": {\n",
      "            \"parts\": [\n",
      "              {\n",
      "                \"text\": \"The capital of India is **New Delhi**.\\n\"\n",
      "              }\n",
      "            ],\n",
      "            \"role\": \"model\"\n",
      "          },\n",
      "          \"finish_reason\": \"STOP\",\n",
      "          \"avg_logprobs\": -0.0009452488273382186\n",
      "        }\n",
      "      ],\n",
      "      \"usage_metadata\": {\n",
      "        \"prompt_token_count\": 7,\n",
      "        \"candidates_token_count\": 10,\n",
      "        \"total_token_count\": 17\n",
      "      },\n",
      "      \"model_version\": \"gemini-1.5-flash\"\n",
      "    }),\n",
      ")\n"
     ]
    }
   ],
   "source": [
    "print(response)"
   ]
  },
  {
   "cell_type": "markdown",
   "id": "07cf66ad",
   "metadata": {},
   "source": [
    "## Resume Analysis"
   ]
  },
  {
   "cell_type": "code",
   "execution_count": 13,
   "id": "c75a12d4",
   "metadata": {},
   "outputs": [],
   "source": [
    "def analyze_resume(resume_text, job_description=None):\n",
    "    if not resume_text:\n",
    "        return {\"error\": \"Resume text is required for analysis.\"}\n",
    "    \n",
    "    model = genai.GenerativeModel(\"gemini-1.5-flash\")\n",
    "    \n",
    "    base_prompt = f\"\"\"\n",
    "    You are an experienced HR with Technical Experience in the field of any one job role from Data Science, Data Analyst, DevOPS, Machine Learning Engineer, Prompt Engineer, AI Engineer, Full Stack Web Development, Big Data Engineering, Marketing Analyst, Human Resource Manager, Software Developer your task is to review the provided resume.\n",
    "    Please share your professional evaluation on whether the candidate's profile aligns with the role.ALso mention Skills he already have and siggest some skills to imorve his resume , alos suggest some course he might take to improve the skills.Highlight the strengths and weaknesses.\n",
    "\n",
    "    Resume:\n",
    "    {resume_text}\n",
    "    \"\"\"\n",
    "\n",
    "    if job_description:\n",
    "        base_prompt += f\"\"\"\n",
    "        Additionally, compare this resume to the following job description:\n",
    "        \n",
    "        Job Description:\n",
    "        {job_description}\n",
    "        \n",
    "        Highlight the strengths and weaknesses of the applicant in relation to the specified job requirements.\n",
    "        \"\"\"\n",
    "\n",
    "    response = model.generate_content(base_prompt)\n",
    "\n",
    "    analysis = response.text.strip()\n",
    "    return analysis"
   ]
  },
  {
   "cell_type": "code",
   "execution_count": 14,
   "id": "2452f0fe",
   "metadata": {},
   "outputs": [
    {
     "name": "stdout",
     "output_type": "stream",
     "text": [
      "## Resume Evaluation for Ankit Kandpal\n",
      "\n",
      "**Role:**  Assuming the target role is a Junior Machine Learning Engineer or a similar entry-level position requiring both software development and ML skills.\n",
      "\n",
      "**Overall Assessment:** Ankit Kandpal's resume demonstrates a promising foundation for a junior role in AI/ML. His projects showcase a good understanding of full-stack development and some ML concepts. However, the resume needs refinement to highlight his strengths more effectively and address some weaknesses.\n",
      "\n",
      "\n",
      "**Strengths:**\n",
      "\n",
      "* **Strong Project Portfolio:**  The projects (AgentMeet, Finger Counter, Dijkstra's Algorithm Visualizer) are well-described and demonstrate a diverse skillset, including full-stack development, AI integration, and computer vision.  AgentMeet, in particular, is impressive for a final-year student.\n",
      "* **Technical Skills:** He possesses a wide range of technical skills including multiple programming languages (Python, C++, JavaScript, PHP), frameworks (React, Angular, Vue, Next.js), and relevant libraries (OpenCV, NumPy).\n",
      "* **Extracurricular Activities:** Participation in coding competitions showcases problem-solving skills and ability to work under pressure.  The leadership experience in leading an e-commerce project development team is a significant plus.\n",
      "* **Clear Objective:** The objective statement clearly states his aspirations.\n",
      "\n",
      "\n",
      "**Weaknesses:**\n",
      "\n",
      "* **Expected Graduation Date:**  The resume states \"Expected 2026,\" which is unusually far off for a final-year student.  This needs immediate correction.  It likely should be 2024.\n",
      "* **Skill Depth vs. Breadth:** While Ankit has listed many skills, the resume doesn't adequately demonstrate the *depth* of his proficiency in each.  For example, mentioning \"Machine Learning\" is insufficient. He should specify algorithms, libraries (scikit-learn, TensorFlow, PyTorch), and specific techniques used.\n",
      "* **Vague Skill Descriptions:**  Terms like \"App Development\" and \"AI\" are too broad. He should specify the types of applications and AI techniques he's proficient in.\n",
      "* **Lack of Quantifiable Results:** The projects lack quantifiable results. For instance, for AgentMeet, metrics like user engagement, transcription accuracy, or system performance could significantly boost the impact. Similarly, for the Finger Counter, mentioning accuracy rates would be beneficial.\n",
      "* **Resume Formatting:**  While the content is good, the formatting could be improved for better readability.  Using bullet points consistently and section headings would help.\n",
      "\n",
      "\n",
      "**Skills He Already Has:**\n",
      "\n",
      "* **Programming Languages:** Python, C++, JavaScript, PHP, HTML, CSS\n",
      "* **Frameworks:** React.js, Angular, Vue.js, Next.js\n",
      "* **Libraries/Tools:** OpenCV, NumPy, MongoDB\n",
      "* **AI/ML Concepts:**  Basic understanding of AI, computer vision, and algorithm implementation (Dijkstra's).\n",
      "* **Full-Stack Development:** Demonstrated ability to build and deploy complete applications.\n",
      "* **Software Development Lifecycle:** Experience in team projects, task division, code reviews.\n",
      "* **Problem-solving & Collaboration:**  Proven through coding competitions and team projects.\n",
      "\n",
      "\n",
      "**Skills to Improve:**\n",
      "\n",
      "* **Specific ML Algorithms and Techniques:** Deepen expertise in specific ML algorithms (regression, classification, clustering, deep learning).\n",
      "* **Data Wrangling and Preprocessing:** Master data cleaning, transformation, and feature engineering techniques.\n",
      "* **Model Evaluation Metrics:**  Understanding precision, recall, F1-score, AUC-ROC, etc. is crucial.\n",
      "* **Cloud Platforms (AWS, Azure, GCP):** Experience with cloud platforms is highly valuable.\n",
      "* **Version Control (Git):**  While GitHub is mentioned, showcasing specific contributions and expertise with Git branching strategies is crucial.\n",
      "* **Database Management:**  Beyond MongoDB, familiarity with SQL and other database systems would be beneficial.\n",
      "* **Deployment and CI/CD:**  Understanding how to deploy and manage applications using CI/CD pipelines.\n",
      "\n",
      "\n",
      "**Suggested Courses:**\n",
      "\n",
      "* **Machine Learning Specialization (Coursera/edX):** To solidify his foundational knowledge of ML algorithms and techniques.  Specific courses focusing on deep learning with TensorFlow/PyTorch would also be beneficial.\n",
      "* **Data Science Specialization (Coursera/edX):**  To acquire strong skills in data manipulation, analysis, and visualization.\n",
      "* **Cloud Computing Fundamentals (AWS/Azure/GCP):**  To learn cloud technologies relevant to deploying and scaling ML models.\n",
      "* **Advanced Deep Learning (fast.ai, deeplearning.ai):** For a more in-depth understanding of deep learning techniques.\n",
      "* **Software Engineering Principles (Udacity/Coursera):**  To further strengthen his software development skills and best practices.\n",
      "\n",
      "\n",
      "**Recommendations:**\n",
      "\n",
      "1. **Correct the graduation date immediately.**\n",
      "2. **Quantify the results in his projects.** Use numbers to showcase the impact of his work.\n",
      "3. **Specify the depth of his skills.** Don't just list languages and frameworks; describe specific projects where he used them.\n",
      "4. **Refine the resume formatting.** Use bullet points consistently and add clear section headings.\n",
      "5. **Add a portfolio section.** This could include links to his projects and GitHub repositories.\n",
      "6. **Focus on specific ML algorithms and techniques used in his projects.**  Mention the specific libraries used (scikit-learn, TensorFlow, PyTorch, etc.).\n",
      "7. **Highlight relevant keywords.** Tailor the resume to the specific job descriptions.\n",
      "\n",
      "\n",
      "By addressing these weaknesses and focusing on the suggested improvements, Ankit can significantly strengthen his resume and improve his chances of landing a suitable role.\n"
     ]
    }
   ],
   "source": [
    "print(analyze_resume(resume_text))"
   ]
  },
  {
   "cell_type": "code",
   "execution_count": null,
   "id": "9a6c9894",
   "metadata": {},
   "outputs": [],
   "source": []
  }
 ],
 "metadata": {
  "kernelspec": {
   "display_name": "Python 3",
   "language": "python",
   "name": "python3"
  },
  "language_info": {
   "codemirror_mode": {
    "name": "ipython",
    "version": 3
   },
   "file_extension": ".py",
   "mimetype": "text/x-python",
   "name": "python",
   "nbconvert_exporter": "python",
   "pygments_lexer": "ipython3",
   "version": "3.12.4"
  }
 },
 "nbformat": 4,
 "nbformat_minor": 5
}
